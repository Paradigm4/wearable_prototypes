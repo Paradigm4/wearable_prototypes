{
 "cells": [
  {
   "cell_type": "markdown",
   "metadata": {},
   "source": [
    "# SciDB and Machine Learning on Wearable Data\n",
    "\n",
    "This work is motivated by the following publication out of the IHI 2012 - 2ND ACM SIGHIT International Health Informatics Symposium: https://dl.acm.org/citation.cfm?doid=2110363.2110375\n",
    "\n",
    "The authors explored ways to detect sleep using a wrist-worn accelerometer and light sensor. In this Notebook, we explore their data loaded in SciDB via a few queries and analytics. We'll start off by running simple fetch and summary queries to familiarize ourselves with the data. Then we'll explore ways to use SciDB streaming to bring analytics _to_ the data and execute data-wide computations in the DB. Finally, we'll build towards a machine learning algorithm that can detect sleep with some accuracy.\n",
    "\n",
    "The objective of this work is not so much to train a good model, but to demonstrate the SciDB-powered workflow itself. The key take-away is that SciDB helps easily orchestrate parallelism for complex calculations that can be expressed in popular languages like R and Python. \n",
    "\n",
    "# 1. Connect and Explore\n",
    "\n",
    "The Usual AMI password is 'Paradigm4' - enter it when prompted."
   ]
  },
  {
   "cell_type": "code",
   "execution_count": 1,
   "metadata": {},
   "outputs": [
    {
     "name": "stdout",
     "output_type": "stream",
     "text": [
      "Please enter your password: ········\n"
     ]
    }
   ],
   "source": [
    "from scidbpy import connect\n",
    "import getpass\n",
    "import requests\n",
    "import warnings\n",
    "warnings.filterwarnings(\"ignore\")\n",
    "requests.packages.urllib3.disable_warnings(requests.packages.urllib3.exceptions.InsecureRequestWarning)\n",
    "db = connect(scidb_url=\"https://localhost:8083\", \n",
    "             scidb_auth=('scidbadmin', getpass.getpass('Please enter your password: ')),\n",
    "             verify=False)"
   ]
  },
  {
   "cell_type": "markdown",
   "metadata": {},
   "source": [
    "We loaded all of the data from the paper into a single array, indexed by \n",
    " * `subject`: a simple numeric identifier,\n",
    " * `day`: a simple counter starting at day 0 for each subject and \n",
    " * `mil`: the number of milliseconds elapsed since start of day (0 to 86,400,000).\n",
    " \n",
    "Each cell in the array has the following attributes:\n",
    " * `acc_x,y,z`: the 3D accelerometer readings\n",
    " * `light`: the light sensor output\n",
    " * `sleep`: the \"ground truth\" as to whether or not the subject is sleeping at that time (1 means awake, 2 means asleep)\n",
    "\n",
    "Let's take a look at a few entries:"
   ]
  },
  {
   "cell_type": "code",
   "execution_count": 2,
   "metadata": {},
   "outputs": [
    {
     "data": {
      "text/plain": [
       "u'IHI_DATA<acc_x:double,acc_y:double,acc_z:double,light:double,sleep:double> [subject=0:*:0:1; day=0:*:0:1; mil=0:86399999:0:3600000]'"
      ]
     },
     "execution_count": 2,
     "metadata": {},
     "output_type": "execute_result"
    }
   ],
   "source": [
    "ihi_schema = db.show(db.arrays.IHI_DATA)[:]['schema'][0]\n",
    "ihi_schema"
   ]
  },
  {
   "cell_type": "code",
   "execution_count": 3,
   "metadata": {},
   "outputs": [
    {
     "data": {
      "text/html": [
       "<div>\n",
       "<style scoped>\n",
       "    .dataframe tbody tr th:only-of-type {\n",
       "        vertical-align: middle;\n",
       "    }\n",
       "\n",
       "    .dataframe tbody tr th {\n",
       "        vertical-align: top;\n",
       "    }\n",
       "\n",
       "    .dataframe thead th {\n",
       "        text-align: right;\n",
       "    }\n",
       "</style>\n",
       "<table border=\"1\" class=\"dataframe\">\n",
       "  <thead>\n",
       "    <tr style=\"text-align: right;\">\n",
       "      <th></th>\n",
       "      <th>inst</th>\n",
       "      <th>attid</th>\n",
       "      <th>att</th>\n",
       "      <th>count</th>\n",
       "      <th>bytes</th>\n",
       "      <th>chunks</th>\n",
       "      <th>min_count</th>\n",
       "      <th>avg_count</th>\n",
       "      <th>max_count</th>\n",
       "      <th>min_bytes</th>\n",
       "      <th>avg_bytes</th>\n",
       "      <th>max_bytes</th>\n",
       "    </tr>\n",
       "  </thead>\n",
       "  <tbody>\n",
       "    <tr>\n",
       "      <th>0</th>\n",
       "      <td>0</td>\n",
       "      <td>0</td>\n",
       "      <td>all</td>\n",
       "      <td>101058882.0</td>\n",
       "      <td>4.830247e+09</td>\n",
       "      <td>25602.0</td>\n",
       "      <td>135.0</td>\n",
       "      <td>23683.82517</td>\n",
       "      <td>196823.0</td>\n",
       "      <td>80.0</td>\n",
       "      <td>188666.779158</td>\n",
       "      <td>4634928.0</td>\n",
       "    </tr>\n",
       "  </tbody>\n",
       "</table>\n",
       "</div>"
      ],
      "text/plain": [
       "   inst  attid  att        count         bytes   chunks  min_count  \\\n",
       "0     0      0  all  101058882.0  4.830247e+09  25602.0      135.0   \n",
       "\n",
       "     avg_count  max_count  min_bytes      avg_bytes  max_bytes  \n",
       "0  23683.82517   196823.0       80.0  188666.779158  4634928.0  "
      ]
     },
     "execution_count": 3,
     "metadata": {},
     "output_type": "execute_result"
    }
   ],
   "source": [
    "db.summarize(db.arrays.IHI_DATA)[:]"
   ]
  },
  {
   "cell_type": "code",
   "execution_count": 4,
   "metadata": {},
   "outputs": [
    {
     "data": {
      "text/html": [
       "<div>\n",
       "<style scoped>\n",
       "    .dataframe tbody tr th:only-of-type {\n",
       "        vertical-align: middle;\n",
       "    }\n",
       "\n",
       "    .dataframe tbody tr th {\n",
       "        vertical-align: top;\n",
       "    }\n",
       "\n",
       "    .dataframe thead th {\n",
       "        text-align: right;\n",
       "    }\n",
       "</style>\n",
       "<table border=\"1\" class=\"dataframe\">\n",
       "  <thead>\n",
       "    <tr style=\"text-align: right;\">\n",
       "      <th></th>\n",
       "      <th>subject</th>\n",
       "      <th>day</th>\n",
       "      <th>mil</th>\n",
       "      <th>acc_x</th>\n",
       "      <th>acc_y</th>\n",
       "      <th>acc_z</th>\n",
       "      <th>light</th>\n",
       "      <th>sleep</th>\n",
       "    </tr>\n",
       "  </thead>\n",
       "  <tbody>\n",
       "    <tr>\n",
       "      <th>0</th>\n",
       "      <td>0</td>\n",
       "      <td>1</td>\n",
       "      <td>509</td>\n",
       "      <td>109.0</td>\n",
       "      <td>117.0</td>\n",
       "      <td>146.0</td>\n",
       "      <td>0.0</td>\n",
       "      <td>2.0</td>\n",
       "    </tr>\n",
       "    <tr>\n",
       "      <th>1</th>\n",
       "      <td>0</td>\n",
       "      <td>1</td>\n",
       "      <td>580</td>\n",
       "      <td>109.0</td>\n",
       "      <td>117.0</td>\n",
       "      <td>146.0</td>\n",
       "      <td>0.0</td>\n",
       "      <td>2.0</td>\n",
       "    </tr>\n",
       "    <tr>\n",
       "      <th>2</th>\n",
       "      <td>0</td>\n",
       "      <td>1</td>\n",
       "      <td>2454</td>\n",
       "      <td>109.0</td>\n",
       "      <td>117.0</td>\n",
       "      <td>146.0</td>\n",
       "      <td>0.0</td>\n",
       "      <td>2.0</td>\n",
       "    </tr>\n",
       "    <tr>\n",
       "      <th>3</th>\n",
       "      <td>0</td>\n",
       "      <td>1</td>\n",
       "      <td>2515</td>\n",
       "      <td>109.0</td>\n",
       "      <td>117.0</td>\n",
       "      <td>146.0</td>\n",
       "      <td>0.0</td>\n",
       "      <td>2.0</td>\n",
       "    </tr>\n",
       "    <tr>\n",
       "      <th>4</th>\n",
       "      <td>0</td>\n",
       "      <td>1</td>\n",
       "      <td>2821</td>\n",
       "      <td>109.0</td>\n",
       "      <td>117.0</td>\n",
       "      <td>146.0</td>\n",
       "      <td>0.0</td>\n",
       "      <td>2.0</td>\n",
       "    </tr>\n",
       "  </tbody>\n",
       "</table>\n",
       "</div>"
      ],
      "text/plain": [
       "   subject  day   mil  acc_x  acc_y  acc_z  light  sleep\n",
       "0        0    1   509  109.0  117.0  146.0    0.0    2.0\n",
       "1        0    1   580  109.0  117.0  146.0    0.0    2.0\n",
       "2        0    1  2454  109.0  117.0  146.0    0.0    2.0\n",
       "3        0    1  2515  109.0  117.0  146.0    0.0    2.0\n",
       "4        0    1  2821  109.0  117.0  146.0    0.0    2.0"
      ]
     },
     "execution_count": 4,
     "metadata": {},
     "output_type": "execute_result"
    }
   ],
   "source": [
    "db.limit(db.arrays.IHI_DATA, 5)[:]"
   ]
  },
  {
   "cell_type": "markdown",
   "metadata": {},
   "source": [
    "## 1.1 Quick Fetch and Browse Routines\n",
    "\n",
    "Because SciDB indexes and clusters data on dimensions, it is efficient to retrieve data by dimensions. Below we'll define a function `get_series` that will let us quickly retrieve data for specific subject, day and time intervals:"
   ]
  },
  {
   "cell_type": "code",
   "execution_count": 5,
   "metadata": {},
   "outputs": [
    {
     "data": {
      "text/html": [
       "<div>\n",
       "<style scoped>\n",
       "    .dataframe tbody tr th:only-of-type {\n",
       "        vertical-align: middle;\n",
       "    }\n",
       "\n",
       "    .dataframe tbody tr th {\n",
       "        vertical-align: top;\n",
       "    }\n",
       "\n",
       "    .dataframe thead th {\n",
       "        text-align: right;\n",
       "    }\n",
       "</style>\n",
       "<table border=\"1\" class=\"dataframe\">\n",
       "  <thead>\n",
       "    <tr style=\"text-align: right;\">\n",
       "      <th></th>\n",
       "      <th>subject</th>\n",
       "      <th>day</th>\n",
       "      <th>mil</th>\n",
       "      <th>acc_x</th>\n",
       "      <th>acc_y</th>\n",
       "      <th>acc_z</th>\n",
       "      <th>light</th>\n",
       "      <th>sleep</th>\n",
       "    </tr>\n",
       "  </thead>\n",
       "  <tbody>\n",
       "    <tr>\n",
       "      <th>0</th>\n",
       "      <td>0</td>\n",
       "      <td>1</td>\n",
       "      <td>32401301</td>\n",
       "      <td>127.0</td>\n",
       "      <td>112.0</td>\n",
       "      <td>151.0</td>\n",
       "      <td>0.0</td>\n",
       "      <td>2.0</td>\n",
       "    </tr>\n",
       "    <tr>\n",
       "      <th>1</th>\n",
       "      <td>0</td>\n",
       "      <td>1</td>\n",
       "      <td>32403894</td>\n",
       "      <td>127.0</td>\n",
       "      <td>112.0</td>\n",
       "      <td>151.0</td>\n",
       "      <td>0.0</td>\n",
       "      <td>2.0</td>\n",
       "    </tr>\n",
       "    <tr>\n",
       "      <th>2</th>\n",
       "      <td>0</td>\n",
       "      <td>1</td>\n",
       "      <td>32406487</td>\n",
       "      <td>127.0</td>\n",
       "      <td>112.0</td>\n",
       "      <td>151.0</td>\n",
       "      <td>0.0</td>\n",
       "      <td>2.0</td>\n",
       "    </tr>\n",
       "    <tr>\n",
       "      <th>3</th>\n",
       "      <td>0</td>\n",
       "      <td>1</td>\n",
       "      <td>32409080</td>\n",
       "      <td>127.0</td>\n",
       "      <td>112.0</td>\n",
       "      <td>151.0</td>\n",
       "      <td>0.0</td>\n",
       "      <td>2.0</td>\n",
       "    </tr>\n",
       "    <tr>\n",
       "      <th>4</th>\n",
       "      <td>0</td>\n",
       "      <td>1</td>\n",
       "      <td>32411672</td>\n",
       "      <td>127.0</td>\n",
       "      <td>112.0</td>\n",
       "      <td>151.0</td>\n",
       "      <td>0.0</td>\n",
       "      <td>2.0</td>\n",
       "    </tr>\n",
       "  </tbody>\n",
       "</table>\n",
       "</div>"
      ],
      "text/plain": [
       "   subject  day       mil  acc_x  acc_y  acc_z  light  sleep\n",
       "0        0    1  32401301  127.0  112.0  151.0    0.0    2.0\n",
       "1        0    1  32403894  127.0  112.0  151.0    0.0    2.0\n",
       "2        0    1  32406487  127.0  112.0  151.0    0.0    2.0\n",
       "3        0    1  32409080  127.0  112.0  151.0    0.0    2.0\n",
       "4        0    1  32411672  127.0  112.0  151.0    0.0    2.0"
      ]
     },
     "execution_count": 5,
     "metadata": {},
     "output_type": "execute_result"
    }
   ],
   "source": [
    "#A helper time conversion routine\n",
    "from datetime import time\n",
    "def time_to_millis(t):\n",
    "    return long(t.hour * 3600000 + t.minute * 60000 + t.second * 1000 + long(t.microsecond / 1000))\n",
    "\n",
    "def get_series(subject, day, t_start, t_end):\n",
    "    if type(t_start) is time:\n",
    "        t_start = time_to_millis(t_start)\n",
    "    if type(t_end) is time:\n",
    "        t_end = time_to_millis(t_end)\n",
    "    query = db.filter(db.arrays.IHI_DATA, \"subject = {} and day = {} and mil>={} and mil <={}\".format(\n",
    "            subject, day, t_start, t_end))\n",
    "    return query[:]\n",
    "\n",
    "d = get_series(subject=0, day=1, t_start = time(8,30,0), t_end=time(9,30,0))\n",
    "d.head()"
   ]
  },
  {
   "cell_type": "markdown",
   "metadata": {},
   "source": [
    "The timeseries are downloaded as Pandas dataframes and we can easily visualize them. We'll create quick plotter function below and visualize subject 0, day 1, from 8:50 AM to 9:30 AM. Looks like our subject is waking up at right around that time:"
   ]
  },
  {
   "cell_type": "code",
   "execution_count": 6,
   "metadata": {},
   "outputs": [
    {
     "data": {
      "image/png": "[encoded data removed]",
      "text/plain": [
       "<matplotlib.figure.Figure at 0x7fbc711ff950>"
      ]
     },
     "metadata": {},
     "output_type": "display_data"
    },
    {
     "data": {
      "image/png": "[encoded data removed]",
      "text/plain": [
       "<matplotlib.figure.Figure at 0x7fbc3f954e90>"
      ]
     },
     "metadata": {},
     "output_type": "display_data"
    },
    {
     "data": {
      "image/png": "[encoded data removed]",
      "text/plain": [
       "<matplotlib.figure.Figure at 0x7fbc3f75fe10>"
      ]
     },
     "metadata": {},
     "output_type": "display_data"
    }
   ],
   "source": [
    "import matplotlib.pyplot as plt\n",
    "\n",
    "def plot_series(d):\n",
    "    d = d.sort_values(by='mil')\n",
    "    plt.rcParams['figure.figsize'] = (18, 1.5)\n",
    "    d1 =d[['mil','acc_x','acc_y','acc_z']]\n",
    "    d1.plot(x='mil', ylim=(-5,260), title='Accelerometer')\n",
    "    d2 =d[['mil','light']]\n",
    "    d2.plot(x='mil', ylim=(-5,260), title = 'Light Sensor')\n",
    "    d3 =d[['mil','sleep']]\n",
    "    d3.plot(x='mil', ylim=(0.95,2.05), title = 'Sleep (Reported)')\n",
    "    plt.show(block=True)\n",
    "\n",
    "def get_and_plot(subject, day, t_start, t_end):\n",
    "    d = get_series(subject = subject, day = day, t_start = t_start, t_end = t_end)\n",
    "    plot_series(d)\n",
    "    \n",
    "get_and_plot(subject=0, day=1, t_start = time(8,50,0), t_end=time(9,30,0))"
   ]
  },
  {
   "cell_type": "markdown",
   "metadata": {},
   "source": [
    "For another example - looks like Subject 3 stayed up late on the morning of Day 3. They go to sleep sometime between midnight and 1 AM:"
   ]
  },
  {
   "cell_type": "code",
   "execution_count": 7,
   "metadata": {},
   "outputs": [
    {
     "data": {
      "image/png": "[encoded data removed]",
      "text/plain": [
       "<matplotlib.figure.Figure at 0x7fbc3f778450>"
      ]
     },
     "metadata": {},
     "output_type": "display_data"
    },
    {
     "data": {
      "image/png": "[encoded data removed]",
      "text/plain": [
       "<matplotlib.figure.Figure at 0x7fbc3f75f550>"
      ]
     },
     "metadata": {},
     "output_type": "display_data"
    },
    {
     "data": {
      "image/png": "[encoded data removed]",
      "text/plain": [
       "<matplotlib.figure.Figure at 0x7fbc3f6b8590>"
      ]
     },
     "metadata": {},
     "output_type": "display_data"
    }
   ],
   "source": [
    "get_and_plot(subject=3, day=3, t_start = time(0,0,0), t_end=time(1,0,0))"
   ]
  },
  {
   "cell_type": "markdown",
   "metadata": {},
   "source": [
    "We can also easily aggregate data into a daily summary. From this we can see most have good coverage but sometimes data is missing. Day 0 usually does not start at midnight. "
   ]
  },
  {
   "cell_type": "code",
   "execution_count": 8,
   "metadata": {},
   "outputs": [
    {
     "data": {
      "text/html": [
       "<div>\n",
       "<style scoped>\n",
       "    .dataframe tbody tr th:only-of-type {\n",
       "        vertical-align: middle;\n",
       "    }\n",
       "\n",
       "    .dataframe tbody tr th {\n",
       "        vertical-align: top;\n",
       "    }\n",
       "\n",
       "    .dataframe thead th {\n",
       "        text-align: right;\n",
       "    }\n",
       "</style>\n",
       "<table border=\"1\" class=\"dataframe\">\n",
       "  <thead>\n",
       "    <tr style=\"text-align: right;\">\n",
       "      <th></th>\n",
       "      <th>subject</th>\n",
       "      <th>day</th>\n",
       "      <th>num_samples</th>\n",
       "      <th>t_start</th>\n",
       "      <th>t_end</th>\n",
       "    </tr>\n",
       "  </thead>\n",
       "  <tbody>\n",
       "    <tr>\n",
       "      <th>136</th>\n",
       "      <td>0</td>\n",
       "      <td>0</td>\n",
       "      <td>44427.0</td>\n",
       "      <td>76984000.0</td>\n",
       "      <td>86399979.0</td>\n",
       "    </tr>\n",
       "    <tr>\n",
       "      <th>102</th>\n",
       "      <td>0</td>\n",
       "      <td>1</td>\n",
       "      <td>407427.0</td>\n",
       "      <td>509.0</td>\n",
       "      <td>86399500.0</td>\n",
       "    </tr>\n",
       "    <tr>\n",
       "      <th>122</th>\n",
       "      <td>0</td>\n",
       "      <td>2</td>\n",
       "      <td>853878.0</td>\n",
       "      <td>2095.0</td>\n",
       "      <td>86398429.0</td>\n",
       "    </tr>\n",
       "    <tr>\n",
       "      <th>13</th>\n",
       "      <td>0</td>\n",
       "      <td>3</td>\n",
       "      <td>895450.0</td>\n",
       "      <td>1037.0</td>\n",
       "      <td>86398973.0</td>\n",
       "    </tr>\n",
       "    <tr>\n",
       "      <th>171</th>\n",
       "      <td>0</td>\n",
       "      <td>4</td>\n",
       "      <td>334253.0</td>\n",
       "      <td>1026.0</td>\n",
       "      <td>86398314.0</td>\n",
       "    </tr>\n",
       "  </tbody>\n",
       "</table>\n",
       "</div>"
      ],
      "text/plain": [
       "     subject  day  num_samples     t_start       t_end\n",
       "136        0    0      44427.0  76984000.0  86399979.0\n",
       "102        0    1     407427.0       509.0  86399500.0\n",
       "122        0    2     853878.0      2095.0  86398429.0\n",
       "13         0    3     895450.0      1037.0  86398973.0\n",
       "171        0    4     334253.0      1026.0  86398314.0"
      ]
     },
     "execution_count": 8,
     "metadata": {},
     "output_type": "execute_result"
    }
   ],
   "source": [
    "daily_summary = db.aggregate(\n",
    "        db.apply(\n",
    "            db.arrays.IHI_DATA, \n",
    "            \"mil\", \"mil\"\n",
    "        ),\n",
    "        \"count(*) as num_samples\", \n",
    "        \"min(mil) as t_start\", \n",
    "        \"max(mil) as t_end\",\n",
    "        \"subject\", \"day\"\n",
    "    )[:]\n",
    "daily_summary.sort_values(by=['subject','day']).head()"
   ]
  },
  {
   "cell_type": "markdown",
   "metadata": {},
   "source": [
    "# 2. Analytics: Computing an Activity Score\n",
    "\n",
    "Let's try to calculate the total \"amount of movement\" that the subject is performing. There are many different approaches in the literature: counting the number of times the accelerometer crosses a threshold (ZCM), proportional integration (PIM), time above threshold and so on. It is also recommended to filter the signal to exlude vibrations that are not of human origin. In this particular case we don't have a lot of information about the device (a custom made prototype) nor even what units the acceleration is captured in. \n",
    "\n",
    "We'll create a simple example function that will add up Euclidean acceleromter distances from the current reading to the previous reading, over a fixed time window (15 minutes). Thus for each 15-minute window, the user gets an \"activity\" score sum. The score is 0 when the accelerometer series as flat. The more change there is, the higher the score:"
   ]
  },
  {
   "cell_type": "code",
   "execution_count": 9,
   "metadata": {
    "collapsed": true
   },
   "outputs": [],
   "source": [
    "def binned_activity(d):\n",
    "    import pandas as pd\n",
    "    bin_millis = 60000 * 15\n",
    "    d1 = d[['mil', 'acc_x','acc_y','acc_z']]\n",
    "    d2 = d1.shift(1)\n",
    "    d2.columns = ['mil_0', 'acc_x_0', 'acc_y_0', 'acc_z_0']\n",
    "    dm = pd.concat([d1,d2], axis=1)\n",
    "    dm['activity'] = pow(pow(dm['acc_x'] - dm['acc_x_0'], 2) + \n",
    "                     pow(dm['acc_y'] - dm['acc_y_0'], 2) + \n",
    "                     pow(dm['acc_z'] - dm['acc_z_0'], 2), 0.5)\n",
    "    dm['bin'] = (dm['mil'] / (bin_millis)).astype(long)\n",
    "    dmm = dm.groupby(['bin'], as_index=False)[['activity']].sum()\n",
    "    dmm['mil'] = dmm['bin'] * bin_millis + (bin_millis/2)\n",
    "    dmm['subject'] = d['subject'][0]\n",
    "    dmm['day'] = d['day'][0]\n",
    "    dmm = dmm[['subject', 'day', 'mil', 'activity']]\n",
    "    return(dmm)"
   ]
  },
  {
   "cell_type": "markdown",
   "metadata": {},
   "source": [
    "We can now run our function on an example timeseries and plot it alongside. Our activity score increases as the subject wakes up:"
   ]
  },
  {
   "cell_type": "code",
   "execution_count": 10,
   "metadata": {},
   "outputs": [
    {
     "name": "stdout",
     "output_type": "stream",
     "text": [
      "   subject  day       mil      activity\n",
      "0        0    1  31050000   2874.772235\n",
      "1        0    1  31950000   1703.148437\n",
      "2        0    1  32850000  47860.275432\n",
      "3        0    1  33750000  64244.561334\n"
     ]
    },
    {
     "data": {
      "image/png": "[encoded data removed]",
      "text/plain": [
       "<matplotlib.figure.Figure at 0x7fbc36a64250>"
      ]
     },
     "metadata": {},
     "output_type": "display_data"
    },
    {
     "data": {
      "image/png": "[encoded data removed]",
      "text/plain": [
       "<matplotlib.figure.Figure at 0x7fbc3f742610>"
      ]
     },
     "metadata": {},
     "output_type": "display_data"
    },
    {
     "data": {
      "image/png": "[encoded data removed]",
      "text/plain": [
       "<matplotlib.figure.Figure at 0x7fbc3f61d0d0>"
      ]
     },
     "metadata": {},
     "output_type": "display_data"
    },
    {
     "data": {
      "image/png": "[encoded data removed]",
      "text/plain": [
       "<matplotlib.figure.Figure at 0x7fbc3f58c2d0>"
      ]
     },
     "metadata": {},
     "output_type": "display_data"
    }
   ],
   "source": [
    "d = get_series(subject=0, day=1, t_start = time(8,30,0), t_end=time(9,30,0))\n",
    "dm = binned_activity(d)\n",
    "print(dm)\n",
    "plot_series(d)\n",
    "dm[['mil','activity']].plot(x='mil', color='green', title = \"Activity Score\", \n",
    "                           xlim=(min(d['mil']), max(d['mil'])  ))\n",
    "plt.show(block=True)"
   ]
  },
  {
   "cell_type": "markdown",
   "metadata": {},
   "source": [
    "## 2.1 Applying a Function through Streaming\n",
    "\n",
    "Taking our `binned_activity` function from above we will now do the following in SciDB:\n",
    " 1. Upload the code for `binned_activity` to the SicDB cluster\n",
    " 2. In parallel, run `binned_activity` on every subject, ouputting the activity for every 15-minute period\n",
    " 3. Gather and store results as a new array `IHI_BINNED_ACTIVITY`\n",
    " \n",
    "SciDB makes this quite straightforward, modulo a few small aspects. SciDB streaming will execute the function on one chunk of data at a time, and the `IHI_DATA` array is chunked into 1-hour intervals. The 15 minute windows evenly divide the hour, thus we won't see any overlap issues. If the window were, say, 23 minutes, we would need to write some extra code to redimension the data prior to streaming.\n",
    "\n",
    "Note also the `import pandas as pd` line is _inside_ the body of the function. This is a bit nonstandard but will do the right thing without affecting performance - Python will run the `import` only once."
   ]
  },
  {
   "cell_type": "code",
   "execution_count": null,
   "metadata": {
    "collapsed": true
   },
   "outputs": [],
   "source": [
    "#Remove the array if exists\n",
    "try:\n",
    "    db.remove(db.arrays.IHI_BINNED_ACTIVITY)\n",
    "except:\n",
    "    print(\"Array not found\")"
   ]
  },
  {
   "cell_type": "code",
   "execution_count": null,
   "metadata": {},
   "outputs": [],
   "source": [
    "#ETA on this is about 1 minute\n",
    "import scidbstrm\n",
    "db_fun = db.input(upload_data=scidbstrm.pack_func(binned_activity)).store()\n",
    "db.stream(\n",
    "    db.apply(\n",
    "        db.arrays.IHI_DATA, \n",
    "        \"mil, mil\", \n",
    "        \"subject, subject\", \n",
    "        \"day, day\"\n",
    "    ),\n",
    "    scidbstrm.python_map,\n",
    "    \"'format=feather'\",\n",
    "    \"'types=int64,int64,int64,double'\",\n",
    "    \"'names=subject,day,mil,activity'\",\n",
    "    '_sg({}, 0)'.format(db_fun.name)\n",
    ").store(db.arrays.IHI_BINNED_ACTIVITY)"
   ]
  },
  {
   "cell_type": "markdown",
   "metadata": {},
   "source": [
    "Notice that after the streaming the array now has \"placeholder\" dimensions and we've converted our `subject` and `day` fields to attributes:"
   ]
  },
  {
   "cell_type": "code",
   "execution_count": null,
   "metadata": {},
   "outputs": [],
   "source": [
    "db.show(db.arrays.IHI_BINNED_ACTIVITY)[:]['schema'][0]"
   ]
  },
  {
   "cell_type": "code",
   "execution_count": null,
   "metadata": {},
   "outputs": [],
   "source": [
    "db.limit(db.arrays.IHI_BINNED_ACTIVITY, 5).fetch(atts_only=True).sort_values(by=['subject','day'])"
   ]
  },
  {
   "cell_type": "code",
   "execution_count": null,
   "metadata": {},
   "outputs": [],
   "source": [
    "s2_day3_activity = db.filter(\n",
    "                      db.arrays.IHI_BINNED_ACTIVITY,\n",
    "                      \"subject = 2 and day = 3\"\n",
    "                    )[:]\n",
    "s2_day3_activity = s2_day3_activity.sort_values(by='mil')\n",
    "s2_day3_activity['hour'] = s2_day3_activity['mil'] / 3600000\n",
    "s2_day3_activity[['hour','activity']].plot(x='hour')\n",
    "plt.show(block=True)"
   ]
  },
  {
   "cell_type": "markdown",
   "metadata": {},
   "source": [
    "We can fetch a whole day's worth of activity for a particular subject. It's also interesting to look at inter-day and inter-subject comparisons of peak activity times:"
   ]
  },
  {
   "cell_type": "markdown",
   "metadata": {},
   "source": [
    "Finally, we can compare the average activity level across subjects. It's an interesting illustration, however one should keep in mind that it's vulnerable to device-to-device variation as well as missing data:"
   ]
  },
  {
   "cell_type": "code",
   "execution_count": null,
   "metadata": {},
   "outputs": [],
   "source": [
    "activity_stats = db.grouped_aggregate(\n",
    "                         db.grouped_aggregate(\n",
    "                            db.arrays.IHI_BINNED_ACTIVITY,\n",
    "                            \"sum(activity) as daily_activity\", \"subject, day\"\n",
    "                        ),\n",
    "                        \"avg(daily_activity) as avg_daily_activity\", \n",
    "                        \"stdev(daily_activity) as stdev_daily_activity\",\n",
    "                        \"count(*) as num_days\",\n",
    "                        \"subject\"\n",
    "                     ).fetch(atts_only=True)\n",
    "activity_stats"
   ]
  },
  {
   "cell_type": "code",
   "execution_count": null,
   "metadata": {},
   "outputs": [],
   "source": [
    "activity_stats.sort_values(by='subject').plot(y='avg_daily_activity', x='subject', kind ='bar')\n",
    "plt.show()"
   ]
  },
  {
   "cell_type": "markdown",
   "metadata": {},
   "source": [
    "Our `binned_activity` function is a very rough prototype but we'll draw attention to how easy it is to modify that function - adding a filter, interpolating, taking a more realistic integral - and re-run on all the data using SciDB."
   ]
  },
  {
   "cell_type": "markdown",
   "metadata": {},
   "source": [
    "# 3. In-Database Machine Learning\n",
    "\n",
    "We'll build up on the streaming paradigm seen above to execute a machine learning exercise on the data. We'll perform the following:\n",
    "\n",
    " 1. Compute several binned features on the data - binned variance for accelerometers and the total amount of light as measured by the light sensor\n",
    " 2. Randomly split the binned features into \"training\" and \"validation\" sets\n",
    " 3. Use the Stochastic Gradient Descent Classifier from scikit-learn to train several models on the training set inside SciDB in Parallel\n",
    " 4. Combine the trained models into a single Voting Classifier prediction model, store that as an array in SciDB.\n",
    " 5. Evaluate the model on the remaining \"validation\" set and compare it to ground truth.\n",
    " \n",
    "Many of these steps are built on this blog post: http://rvernica.github.io/2017/10/streaming-machine-learning\n",
    "In fact we use a very similar classifier. Consult that post for additional clarifications.\n",
    "\n",
    "First, the binning can be done entirely using SciDB aggregation. The splitting into \"training\" and \"validation\" is achieved by `apply`-ing a value to each field that is either 0 or 1."
   ]
  },
  {
   "cell_type": "code",
   "execution_count": null,
   "metadata": {
    "collapsed": true
   },
   "outputs": [],
   "source": [
    "try:\n",
    "    db.remove(db.arrays.IHI_BINNED_FEATURES)\n",
    "except:\n",
    "    print(\"Array not found\")"
   ]
  },
  {
   "cell_type": "code",
   "execution_count": null,
   "metadata": {},
   "outputs": [],
   "source": [
    "feature_binning_period = 1 * 60 * 1000 #Break up the data into 1-minute bins\n",
    "db.apply(\n",
    "    db.grouped_aggregate(\n",
    "        db.apply(\n",
    "         db.arrays.IHI_DATA, \n",
    "         \"bin_millis\", \"mil/({p}) * ({p}) + ({p})/2\".format(p=feature_binning_period)\n",
    "        ),\n",
    "        \"sum(light) as total_light\", \n",
    "        \"var(acc_x) as acc_x_var\", \n",
    "        \"var(acc_y) as acc_y_var\", \n",
    "        \"var(acc_z) as acc_z_var\", \n",
    "        \"max(sleep) as sleep\",\n",
    "        \"subject, day, bin_millis\"\n",
    "    ),\n",
    "    \"training\", \"random()%2\"\n",
    ").store(db.arrays.IHI_BINNED_FEATURES)\n",
    "db.op_count(db.arrays.IHI_BINNED_FEATURES)[:]"
   ]
  },
  {
   "cell_type": "markdown",
   "metadata": {},
   "source": [
    "## 3.1 Training the Partial Models\n",
    "\n",
    "Note the binned dataset is smaller than the original and it's surely possible to download it. Here we'll illustrate an in-DB parallel approach that will scale well for hundreds of such subjects. Note the use of filter with `training=1` which will use only the \"training\" half of the data.\n",
    "\n",
    "We train the models in parallel:"
   ]
  },
  {
   "cell_type": "code",
   "execution_count": null,
   "metadata": {},
   "outputs": [],
   "source": [
    "import scidbstrm\n",
    "class Train:\n",
    "    model = None\n",
    "    count = 0\n",
    "\n",
    "    @staticmethod\n",
    "    def map(df):\n",
    "        dft = df[['acc_x_var','acc_y_var', 'acc_z_var', 'total_light']]\n",
    "        Train.model.partial_fit(numpy.matrix(dft),\n",
    "                                df['sleep'],\n",
    "                                [1,2])\n",
    "        Train.count += len(df)\n",
    "        return None\n",
    "\n",
    "    @staticmethod\n",
    "    def finalize():\n",
    "        if Train.count == 0:\n",
    "            return None\n",
    "        buf = io.BytesIO()\n",
    "        sklearn.externals.joblib.dump(Train.model, buf)\n",
    "        return pandas.DataFrame({\n",
    "            'count': [Train.count],\n",
    "            'model': [buf.getvalue()]})\n",
    "\n",
    "ar_fun = db.input(upload_data=scidbstrm.pack_func(Train)).store()\n",
    "\n",
    "python_run = \"\"\"'python -uc \"\n",
    "import io\n",
    "import numpy\n",
    "import pandas\n",
    "import scidbstrm\n",
    "import sklearn.externals\n",
    "import sklearn.linear_model\n",
    "\n",
    "Train = scidbstrm.read_func()\n",
    "Train.model = sklearn.linear_model.SGDClassifier()\n",
    "scidbstrm.map(Train.map, Train.finalize)\n",
    "\"'\"\"\"\n",
    "\n",
    "que = db.stream(\n",
    "    db.filter(\n",
    "        db.arrays.IHI_BINNED_FEATURES, \n",
    "        #Note: computed variance can be NULL if a bin input segment (1 minute) has only a single value in it\n",
    "        \"training=1 and acc_x_var is not null and acc_y_var is not null and acc_z_var is not null\"\n",
    "    ),\n",
    "    python_run,\n",
    "    \"'format=feather'\",\n",
    "    \"'types=int64,binary'\",\n",
    "    \"'names=count,model'\",\n",
    "    '_sg({}, 0)'.format(ar_fun.name)\n",
    ").store(\n",
    "    db.arrays.IHI_PARTIAL_MODEL)"
   ]
  },
  {
   "cell_type": "markdown",
   "metadata": {},
   "source": [
    "Note the binned data may not be distributed to all the instances but, for each instance that had data there's now a model decorated with the number of rows that it was trained on:"
   ]
  },
  {
   "cell_type": "code",
   "execution_count": null,
   "metadata": {
    "scrolled": true
   },
   "outputs": [],
   "source": [
    "db.scan(db.arrays.IHI_PARTIAL_MODEL)[:]"
   ]
  },
  {
   "cell_type": "markdown",
   "metadata": {},
   "source": [
    "## 3.2 Combining the Models\n",
    "\n",
    "Again, in a fashion very similar to Dr. Vernica's blog post, we combine all the partially-trained models. A production workflow will likely do these two steps in one big query:"
   ]
  },
  {
   "cell_type": "code",
   "execution_count": null,
   "metadata": {
    "collapsed": true
   },
   "outputs": [],
   "source": [
    "def merge_models(df):\n",
    "    import io\n",
    "    import pandas\n",
    "    import sklearn.ensemble\n",
    "    import sklearn.externals\n",
    "    estimators = [sklearn.externals.joblib.load(io.BytesIO(byt))\n",
    "                  for byt in df['model']]\n",
    "    if not estimators:\n",
    "        return None\n",
    "    labelencoder = sklearn.preprocessing.LabelEncoder()\n",
    "    labelencoder.fit(range(2))\n",
    "    model = sklearn.ensemble.VotingClassifier(())\n",
    "    model.estimators_ = estimators\n",
    "    model.le_ = labelencoder\n",
    "    buf = io.BytesIO()\n",
    "    sklearn.externals.joblib.dump(model, buf)\n",
    "    return pandas.DataFrame({'count': df.sum()['count'],\n",
    "                             'model': [buf.getvalue()]})\n",
    "\n",
    "ar_fun = db.input(upload_data=scidbstrm.pack_func(merge_models)).store()\n",
    "\n",
    "que = db.unpack(\n",
    "    #The unpack puts all the models into a single chunk (assuming there aren't more than 1M instances)\n",
    "    db.arrays.IHI_PARTIAL_MODEL,\n",
    "    \"i\", \n",
    "    \"10000000\"\n",
    ").stream(\n",
    "    scidbstrm.python_map,\n",
    "    \"'format=feather'\",\n",
    "    \"'types=int64,binary'\",\n",
    "    \"'names=count,model'\",\n",
    "    '_sg({}, 0)'.format(ar_fun.name)\n",
    ").store(\n",
    "db.arrays.IHI_FINAL_MODEL)"
   ]
  },
  {
   "cell_type": "code",
   "execution_count": null,
   "metadata": {},
   "outputs": [],
   "source": [
    "db.scan(db.arrays.IHI_FINAL_MODEL)[:]"
   ]
  },
  {
   "cell_type": "markdown",
   "metadata": {},
   "source": [
    "## 3.3 Making Predictions\n",
    "\n",
    "Now that we have our model, we can use it to make predictions. Below we'll run it on the remainder of the data, filtering for `training = 0`. "
   ]
  },
  {
   "cell_type": "code",
   "execution_count": null,
   "metadata": {
    "collapsed": true
   },
   "outputs": [],
   "source": [
    "try:\n",
    "    db.remove(db.arrays.IHI_PREDICTED_SLEEP)\n",
    "except:\n",
    "    print(\"Array not found\")"
   ]
  },
  {
   "cell_type": "code",
   "execution_count": null,
   "metadata": {
    "collapsed": true
   },
   "outputs": [],
   "source": [
    "class Predict:\n",
    "    model = None\n",
    "    @staticmethod\n",
    "    def map(df):\n",
    "        dfp = numpy.matrix(df[['acc_x_var','acc_y_var', 'acc_z_var', 'total_light']])\n",
    "        df['pred'] = Predict.model.predict(dfp)\n",
    "        df = df [['subject', 'day', 'bin_millis', 'sleep', 'pred']]\n",
    "        df.columns = ['subject','day','bin_millis','sleep', 'pred']\n",
    "        return df\n",
    "\n",
    "ar_fun = db.input(\n",
    "    upload_data=scidbstrm.pack_func(Predict)\n",
    ").cross_join(\n",
    "    db.arrays.IHI_MODEL_FINAL\n",
    ").store()\n",
    "\n",
    "python_run = \"\"\"'python -uc \"\n",
    "import dill\n",
    "import io\n",
    "import numpy\n",
    "import scidbstrm\n",
    "import sklearn.externals\n",
    "\n",
    "df = scidbstrm.read()\n",
    "Predict = dill.loads(df.iloc[0, 0])\n",
    "Predict.model = sklearn.externals.joblib.load(io.BytesIO(df.iloc[0, 2]))\n",
    "scidbstrm.write()\n",
    "\n",
    "scidbstrm.map(Predict.map)\n",
    "\"'\"\"\"\n",
    "\n",
    "que = db.filter(\n",
    "    db.arrays.IHI_BINNED_FEATURES,\n",
    "    \"training = 0 and acc_x_var is not null and acc_y_var is not null and acc_z_var is not null\"\n",
    ").stream(\n",
    "    python_run,\n",
    "    \"'format=feather'\",\n",
    "    \"'types=int64,int64,int64,double,int64'\",\n",
    "    \"'names=subject,day,bin_millis,sleep,prediction'\",\n",
    "    '_sg({}, 0)'.format(ar_fun.name)\n",
    ").store(\n",
    "    db.arrays.IHI_PREDICTED_SLEEP)"
   ]
  },
  {
   "cell_type": "markdown",
   "metadata": {},
   "source": [
    "# 3.4 How did we do?"
   ]
  },
  {
   "cell_type": "markdown",
   "metadata": {},
   "source": [
    "We can pull out and view the predictions for one subject-day like so:"
   ]
  },
  {
   "cell_type": "code",
   "execution_count": null,
   "metadata": {},
   "outputs": [],
   "source": [
    "s6d1 = db.filter(db.arrays.IHI_PREDICTED_SLEEP, 'subject=6 and day=1').fetch(atts_only=True)\n",
    "s6d1 = s6d1.sort_values(by='bin_millis')\n",
    "s6d1['hour'] = s6d1['bin_millis'] / 3600000\n",
    "plt.rcParams['figure.figsize'] = (18, 3)\n",
    "s6d1[['hour','sleep','prediction']].plot(x='hour').lines[-2].set_linewidth(3)\n",
    "plt.show(block=True)"
   ]
  },
  {
   "cell_type": "markdown",
   "metadata": {},
   "source": [
    "And we can look at every 1-minute bin we have predictions for and compare our predictions to ground truth:"
   ]
  },
  {
   "cell_type": "code",
   "execution_count": null,
   "metadata": {},
   "outputs": [],
   "source": [
    "result = db.grouped_aggregate(db.arrays.IHI_PREDICTED_SLEEP, \"count(*)\", \"sleep, prediction\").fetch(atts_only=True)\n",
    "result"
   ]
  },
  {
   "cell_type": "markdown",
   "metadata": {},
   "source": [
    "The vast majority of our predictions are accurate but there's room to improve the model. The error is also not uniform - we are more likely to mislabel a sleeping person as \"awake\" than vice-versa. Below is a visualization of the above table. We use randomized jitter to help visualize the relative number of points in each bin:"
   ]
  },
  {
   "cell_type": "code",
   "execution_count": null,
   "metadata": {},
   "outputs": [],
   "source": [
    "result = db.project(db.arrays.IHI_PREDICTED_SLEEP, \"sleep, prediction\")[:]\n",
    "import matplotlib, numpy\n",
    "def rand_jitter(arr):\n",
    "     return arr + numpy.random.randn(len(arr)) * .2\n",
    "plt.rcParams['figure.figsize'] = (8, 8)\n",
    "matplotlib.pyplot.xticks([1,2])\n",
    "matplotlib.pyplot.yticks([1,2])\n",
    "matplotlib.pyplot.xlabel('Sleep (Actual)')\n",
    "matplotlib.pyplot.ylabel('Sleep (Predicted)')\n",
    "matplotlib.pyplot.plot(\n",
    "     rand_jitter(result['sleep']), rand_jitter(result['prediction']), '.', ms=1)\n",
    "plt.show()"
   ]
  },
  {
   "cell_type": "markdown",
   "metadata": {},
   "source": [
    "## 3.5 What if?\n",
    "\n",
    "What if we use a longer binning interval, say 10 minutes instead of 1 minute? What if we compute more features like accelerometer averages, min/max and m.a.d? What if we use a different classifier? Should we exclude certain subjects or certain days? \n",
    "\n",
    "The value add of SciDB for this kind of workflow is to allow very fast re-calculations. Having all the code in the notebook with the parallel processing at our fingertips lets us iterate quickly and refine our approach in a reproducible fashion."
   ]
  }
 ],
 "metadata": {
  "kernelspec": {
   "display_name": "Python 2",
   "language": "python",
   "name": "python2"
  },
  "language_info": {
   "codemirror_mode": {
    "name": "ipython",
    "version": 2
   },
   "file_extension": ".py",
   "mimetype": "text/x-python",
   "name": "python",
   "nbconvert_exporter": "python",
   "pygments_lexer": "ipython2",
   "version": "2.7.14"
  }
 },
 "nbformat": 4,
 "nbformat_minor": 2
}
